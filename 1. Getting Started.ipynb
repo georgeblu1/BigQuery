{
  "cells": [
    {
      "metadata": {
        "_uuid": "510b3759b2d891d88371e0979e005bada20550cb"
      },
      "cell_type": "markdown",
      "source": "# Importing BigQuery\nWe'll use a Python package called bq_helper. It has functions for putting BigQuery results in Pandas DataFrames."
    },
    {
      "metadata": {
        "_uuid": "8f2839f25d086af736a60e9eeb907d3b93b6e0e5",
        "_cell_guid": "b1076dfc-b9ad-4769-8c92-a6c4dae69d19",
        "trusted": true,
        "collapsed": true
      },
      "cell_type": "code",
      "source": "import bq_helper\n# create a helper object for our bigquery dataset\nchicago_crime = bq_helper.BigQueryHelper(active_project= \"bigquery-public-data\", \n                                       dataset_name = \"chicago_crime\")",
      "execution_count": null,
      "outputs": []
    },
    {
      "metadata": {
        "_cell_guid": "79c7e3d0-c299-4dcb-8224-4455121ee9b0",
        "collapsed": true,
        "_uuid": "d629ff2d2480ee46fbb7e2d37f6b5fab8052498a",
        "trusted": false
      },
      "cell_type": "markdown",
      "source": " An example of address of BigQuery datasets:\n BigQuery Table [bigquery-public-data](This is BigQuery info, always the same)  [hacker_news](dataset) [comments](Table)  [](https://www.kaggle.com/dansbecker/getting-started-with-sql-and-bigquery).\n We will need to pass this information to BigQueryHelper in order to create our helper object. The active_project argument takes the BigQuery info, which is currently \"bigquery-public-data\" for all the BigQuery datasets on Kaggle. The dataset_name argument takes the name of the dataset we've added to our query. In this case it's \"hacker_news\". So we can create our BigQueryHelper object like so:\n",
      "attachments": {}
    },
    {
      "metadata": {
        "_uuid": "65a1dbc8c03a2999d2e2066f6080faa8719d2419"
      },
      "cell_type": "markdown",
      "source": "## Exploring Structure of datasets\n\nSchema: A description of how data is organized within a dataset.\nWe can use the BigQueryHelper.list_tables() method to list all the files in the chicago crime dataset.\nBigQuery datasets can be very large, and there are some restrictions on how much data you can access."
    },
    {
      "metadata": {
        "trusted": true,
        "_uuid": "d66d5ad32680f82fac4e15cd7d69a4dc3b5592ad"
      },
      "cell_type": "code",
      "source": "chicago_crime.list_tables() #printing tables in datasets",
      "execution_count": 4,
      "outputs": [
        {
          "output_type": "execute_result",
          "execution_count": 4,
          "data": {
            "text/plain": "['crime']"
          },
          "metadata": {}
        }
      ]
    },
    {
      "metadata": {
        "trusted": true,
        "_uuid": "26ddc87dc10d82c2b99c6fc2824c3c019cde6452"
      },
      "cell_type": "code",
      "source": "chicago_crime.table_schema(\"crime\") #printing all info from table",
      "execution_count": 5,
      "outputs": [
        {
          "output_type": "execute_result",
          "execution_count": 5,
          "data": {
            "text/plain": "[SchemaField('unique_key', 'INTEGER', 'REQUIRED', 'Unique identifier for the record.', ()),\n SchemaField('case_number', 'STRING', 'NULLABLE', 'The Chicago Police Department RD Number (Records Division Number), which is unique to the incident.', ()),\n SchemaField('date', 'TIMESTAMP', 'NULLABLE', 'Date when the incident occurred. this is sometimes a best estimate.', ()),\n SchemaField('block', 'STRING', 'NULLABLE', 'The partially redacted address where the incident occurred, placing it on the same block as the actual address.', ()),\n SchemaField('iucr', 'STRING', 'NULLABLE', 'The Illinois Unifrom Crime Reporting code. This is directly linked to the Primary Type and Description. See the list of IUCR codes at https://data.cityofchicago.org/d/c7ck-438e.', ()),\n SchemaField('primary_type', 'STRING', 'NULLABLE', 'The primary description of the IUCR code.', ()),\n SchemaField('description', 'STRING', 'NULLABLE', 'The secondary description of the IUCR code, a subcategory of the primary description.', ()),\n SchemaField('location_description', 'STRING', 'NULLABLE', 'Description of the location where the incident occurred.', ()),\n SchemaField('arrest', 'BOOLEAN', 'NULLABLE', 'Indicates whether an arrest was made.', ()),\n SchemaField('domestic', 'BOOLEAN', 'NULLABLE', 'Indicates whether the incident was domestic-related as defined by the Illinois Domestic Violence Act.', ()),\n SchemaField('beat', 'INTEGER', 'NULLABLE', 'Indicates the beat where the incident occurred. A beat is the smallest police geographic area – each beat has a dedicated police beat car. Three to five beats make up a police sector, and three sectors make up a police district. The Chicago Police Department has 22 police districts. See the beats at https://data.cityofchicago.org/d/aerh-rz74.', ()),\n SchemaField('district', 'INTEGER', 'NULLABLE', 'Indicates the police district where the incident occurred. See the districts at https://data.cityofchicago.org/d/fthy-xz3r.', ()),\n SchemaField('ward', 'INTEGER', 'NULLABLE', 'The ward (City Council district) where the incident occurred. See the wards at https://data.cityofchicago.org/d/sp34-6z76.', ()),\n SchemaField('community_area', 'INTEGER', 'NULLABLE', 'Indicates the community area where the incident occurred. Chicago has 77 community areas. See the community areas at https://data.cityofchicago.org/d/cauq-8yn6.', ()),\n SchemaField('fbi_code', 'STRING', 'NULLABLE', \"Indicates the crime classification as outlined in the FBI's National Incident-Based Reporting System (NIBRS). See the Chicago Police Department listing of these classifications at http://gis.chicagopolice.org/clearmap_crime_sums/crime_types.html.\", ()),\n SchemaField('x_coordinate', 'FLOAT', 'NULLABLE', 'The x coordinate of the location where the incident occurred in State Plane Illinois East NAD 1983 projection. This location is shifted from the actual location for partial redaction but falls on the same block.', ()),\n SchemaField('y_coordinate', 'FLOAT', 'NULLABLE', 'The y coordinate of the location where the incident occurred in State Plane Illinois East NAD 1983 projection. This location is shifted from the actual location for partial redaction but falls on the same block.', ()),\n SchemaField('year', 'INTEGER', 'NULLABLE', 'Year the incident occurred.', ()),\n SchemaField('updated_on', 'TIMESTAMP', 'NULLABLE', 'Date and time the record was last updated.', ()),\n SchemaField('latitude', 'FLOAT', 'NULLABLE', 'The latitude of the location where the incident occurred. This location is shifted from the actual location for partial redaction but falls on the same block.', ()),\n SchemaField('longitude', 'FLOAT', 'NULLABLE', 'The longitude of the location where the incident occurred. This location is shifted from the actual location for partial redaction but falls on the same block.', ()),\n SchemaField('location', 'STRING', 'NULLABLE', 'The location where the incident occurred in a format that allows for creation of maps and other geographic operations on this data portal. This location is shifted from the actual location for partial redaction but falls on the same block.', ())]"
          },
          "metadata": {}
        }
      ]
    },
    {
      "metadata": {
        "_uuid": "a61a5f5523b254d98b6ee43ef1a511cd3409c07d"
      },
      "cell_type": "markdown",
      "source": "Each SchemaField tells us about a specific column. In order, the information is:\n\n* The name of the column\n* The datatype in the column\n* The mode of the column (NULLABLE means that a column allows NULL values, and is the default)\n* A description of the data in that column\n"
    },
    {
      "metadata": {
        "trusted": true,
        "_uuid": "ded057d9f3ea52e3d19ade54d60f7500588e40e6"
      },
      "cell_type": "code",
      "source": "chicago_crime.head(\"crime\") ",
      "execution_count": 8,
      "outputs": [
        {
          "output_type": "execute_result",
          "execution_count": 8,
          "data": {
            "text/plain": "   unique_key              ...                                     location\n0     5036970              ...                (41.726410782, -87.668128711)\n1     9114724              ...                (41.751420646, -87.592486791)\n2     5087600              ...                (41.748734863, -87.591773761)\n3     9139778              ...                (41.830763232, -87.607948532)\n4     2911242              ...                (41.826737901, -87.675485909)\n\n[5 rows x 22 columns]",
            "text/html": "<div>\n<style scoped>\n    .dataframe tbody tr th:only-of-type {\n        vertical-align: middle;\n    }\n\n    .dataframe tbody tr th {\n        vertical-align: top;\n    }\n\n    .dataframe thead th {\n        text-align: right;\n    }\n</style>\n<table border=\"1\" class=\"dataframe\">\n  <thead>\n    <tr style=\"text-align: right;\">\n      <th></th>\n      <th>unique_key</th>\n      <th>case_number</th>\n      <th>date</th>\n      <th>block</th>\n      <th>iucr</th>\n      <th>primary_type</th>\n      <th>description</th>\n      <th>location_description</th>\n      <th>arrest</th>\n      <th>domestic</th>\n      <th>beat</th>\n      <th>district</th>\n      <th>ward</th>\n      <th>community_area</th>\n      <th>fbi_code</th>\n      <th>x_coordinate</th>\n      <th>y_coordinate</th>\n      <th>year</th>\n      <th>updated_on</th>\n      <th>latitude</th>\n      <th>longitude</th>\n      <th>location</th>\n    </tr>\n  </thead>\n  <tbody>\n    <tr>\n      <th>0</th>\n      <td>5036970</td>\n      <td>HM636584</td>\n      <td>2006-10-02 14:45:00+00:00</td>\n      <td>092XX S LONGWOOD DR</td>\n      <td>1562</td>\n      <td>SEX OFFENSE</td>\n      <td>AGG CRIMINAL SEXUAL ABUSE</td>\n      <td>STREET</td>\n      <td>True</td>\n      <td>False</td>\n      <td>2221</td>\n      <td>22</td>\n      <td>19</td>\n      <td>72</td>\n      <td>17</td>\n      <td>1165834.0</td>\n      <td>1843597.0</td>\n      <td>2006</td>\n      <td>2018-02-28 15:56:25+00:00</td>\n      <td>41.726411</td>\n      <td>-87.668129</td>\n      <td>(41.726410782, -87.668128711)</td>\n    </tr>\n    <tr>\n      <th>1</th>\n      <td>9114724</td>\n      <td>HW257681</td>\n      <td>2013-05-02 18:56:00+00:00</td>\n      <td>013XX E 79TH ST</td>\n      <td>0331</td>\n      <td>ROBBERY</td>\n      <td>ATTEMPT: AGGRAVATED</td>\n      <td>SMALL RETAIL STORE</td>\n      <td>False</td>\n      <td>False</td>\n      <td>411</td>\n      <td>4</td>\n      <td>8</td>\n      <td>45</td>\n      <td>03</td>\n      <td>1186404.0</td>\n      <td>1852879.0</td>\n      <td>2013</td>\n      <td>2018-02-10 15:50:01+00:00</td>\n      <td>41.751421</td>\n      <td>-87.592487</td>\n      <td>(41.751420646, -87.592486791)</td>\n    </tr>\n    <tr>\n      <th>2</th>\n      <td>5087600</td>\n      <td>HM690882</td>\n      <td>2006-10-30 12:30:00+00:00</td>\n      <td>080XX S KENWOOD AVE</td>\n      <td>0484</td>\n      <td>BATTERY</td>\n      <td>PRO EMP HANDS NO/MIN INJURY</td>\n      <td>SCHOOL, PUBLIC, BUILDING</td>\n      <td>False</td>\n      <td>False</td>\n      <td>411</td>\n      <td>4</td>\n      <td>8</td>\n      <td>45</td>\n      <td>08B</td>\n      <td>1186607.0</td>\n      <td>1851902.0</td>\n      <td>2006</td>\n      <td>2018-02-28 15:56:25+00:00</td>\n      <td>41.748735</td>\n      <td>-87.591774</td>\n      <td>(41.748734863, -87.591773761)</td>\n    </tr>\n    <tr>\n      <th>3</th>\n      <td>9139778</td>\n      <td>HW284479</td>\n      <td>2013-05-18 11:00:00+00:00</td>\n      <td>035XX S LAKE PARK AVE</td>\n      <td>0496</td>\n      <td>BATTERY</td>\n      <td>AGGRAVATED DOMESTIC BATTERY: KNIFE/CUTTING INST</td>\n      <td>APARTMENT</td>\n      <td>False</td>\n      <td>True</td>\n      <td>212</td>\n      <td>2</td>\n      <td>4</td>\n      <td>36</td>\n      <td>04B</td>\n      <td>1181941.0</td>\n      <td>1881755.0</td>\n      <td>2013</td>\n      <td>2018-02-10 15:50:01+00:00</td>\n      <td>41.830763</td>\n      <td>-87.607949</td>\n      <td>(41.830763232, -87.607948532)</td>\n    </tr>\n    <tr>\n      <th>4</th>\n      <td>2911242</td>\n      <td>HJ589760</td>\n      <td>2003-08-27 04:20:00+00:00</td>\n      <td>020XX W 37TH ST</td>\n      <td>0330</td>\n      <td>ROBBERY</td>\n      <td>AGGRAVATED</td>\n      <td>SIDEWALK</td>\n      <td>False</td>\n      <td>False</td>\n      <td>913</td>\n      <td>9</td>\n      <td>11</td>\n      <td>59</td>\n      <td>03</td>\n      <td>1163546.0</td>\n      <td>1880140.0</td>\n      <td>2003</td>\n      <td>2018-02-28 15:56:25+00:00</td>\n      <td>41.826738</td>\n      <td>-87.675486</td>\n      <td>(41.826737901, -87.675485909)</td>\n    </tr>\n  </tbody>\n</table>\n</div>"
          },
          "metadata": {}
        }
      ]
    },
    {
      "metadata": {
        "trusted": true,
        "_uuid": "4a1e8707fe93bced52509ecadc16039c248fe624"
      },
      "cell_type": "code",
      "source": "chicago_crime.head(\"crime\", selected_columns = \"date\", num_rows = 10) ",
      "execution_count": 9,
      "outputs": [
        {
          "output_type": "execute_result",
          "execution_count": 9,
          "data": {
            "text/plain": "                       date\n0 2006-10-02 14:45:00+00:00\n1 2013-05-02 18:56:00+00:00\n2 2006-10-30 12:30:00+00:00\n3 2013-05-18 11:00:00+00:00\n4 2003-08-27 04:20:00+00:00\n5 2003-08-25 08:00:00+00:00\n6 2003-09-03 20:30:00+00:00\n7 2017-07-14 22:50:00+00:00\n8 2006-08-26 18:37:11+00:00\n9 2006-11-27 20:30:00+00:00",
            "text/html": "<div>\n<style scoped>\n    .dataframe tbody tr th:only-of-type {\n        vertical-align: middle;\n    }\n\n    .dataframe tbody tr th {\n        vertical-align: top;\n    }\n\n    .dataframe thead th {\n        text-align: right;\n    }\n</style>\n<table border=\"1\" class=\"dataframe\">\n  <thead>\n    <tr style=\"text-align: right;\">\n      <th></th>\n      <th>date</th>\n    </tr>\n  </thead>\n  <tbody>\n    <tr>\n      <th>0</th>\n      <td>2006-10-02 14:45:00+00:00</td>\n    </tr>\n    <tr>\n      <th>1</th>\n      <td>2013-05-02 18:56:00+00:00</td>\n    </tr>\n    <tr>\n      <th>2</th>\n      <td>2006-10-30 12:30:00+00:00</td>\n    </tr>\n    <tr>\n      <th>3</th>\n      <td>2013-05-18 11:00:00+00:00</td>\n    </tr>\n    <tr>\n      <th>4</th>\n      <td>2003-08-27 04:20:00+00:00</td>\n    </tr>\n    <tr>\n      <th>5</th>\n      <td>2003-08-25 08:00:00+00:00</td>\n    </tr>\n    <tr>\n      <th>6</th>\n      <td>2003-09-03 20:30:00+00:00</td>\n    </tr>\n    <tr>\n      <th>7</th>\n      <td>2017-07-14 22:50:00+00:00</td>\n    </tr>\n    <tr>\n      <th>8</th>\n      <td>2006-08-26 18:37:11+00:00</td>\n    </tr>\n    <tr>\n      <th>9</th>\n      <td>2006-11-27 20:30:00+00:00</td>\n    </tr>\n  </tbody>\n</table>\n</div>"
          },
          "metadata": {}
        }
      ]
    },
    {
      "metadata": {
        "_uuid": "12c28ae964412972903f761aba15b6c156b21afe"
      },
      "cell_type": "markdown",
      "source": "What's a **query**? A query is small piece of SQL code that specifies what data would you like to scan from a databases, and how much of that data you would like returned. (Note that your quota is on data scanned, not the amount of data returned.)\n\nOne way to help avoid this is to estimate how big your query will be before you actually execute it. You can do this with the BigQueryHelper.estimate_query_size() method. "
    },
    {
      "metadata": {
        "trusted": true,
        "_uuid": "e64428d14347ba8d4022d956fd4aece042122ddc"
      },
      "cell_type": "code",
      "source": "query = \"\"\"SELECT block FROM `bigquery-public-data.chicago_crime.crime`\nWHERE primary_type = \"BATTERY\" \"\"\"\nchicago_crime.estimate_query_size(query)",
      "execution_count": 12,
      "outputs": [
        {
          "output_type": "execute_result",
          "execution_count": 12,
          "data": {
            "text/plain": "0.19992566481232643"
          },
          "metadata": {}
        }
      ]
    },
    {
      "metadata": {
        "_uuid": "ab72c80ec1978c7ed0a01b5ff44489f5c719e3dd"
      },
      "cell_type": "markdown",
      "source": "# Running query\nYou have two methods available to help you do this:\n\n* -BigQueryHelper.query_to_pandas(query): This method takes a query and returns a Pandas dataframe.\n* -BigQueryHelper.query_to_pandas_safe(query, max_gb_scanned=1): This method takes a query and returns a Pandas dataframe only if the size of the query is less than the upperSizeLimit **(1 gigabyte by default)**."
    },
    {
      "metadata": {
        "_uuid": "be58b5252c3356bf4a3ef99353a56ad7dca37284"
      },
      "cell_type": "markdown",
      "source": "## Best practices can help you avoid trouble down the line:\n\n* Avoid using the asterisk (*) in your queries. The asterisk means “everything”. This may be okay with smaller datasets, but getting everything from a 4 terabyte dataset takes a long time and eats into your monthly usage limit.\n* For initial exploration, look at just part of the table instead of the whole thing. If you're just curious to see what data's in a table, preview it instead of scanning the whole table. The BigQueryHelper.head() method in our helper package does this. Like head() in Pandas or R, it returns just the first few rows for you to look at.\n* Double-check the size of complex queries. If you're planning on running what might be a large query, either estimate the size first or run it using the BigQueryHelper.query_to_pandas_safe() method.\n* Be cautious about joining tables. In particular, avoid joining a table with itself (i.e. a self-join) and try to avoid joins that return a table that's larger than the ones you're joining together. (You can double-check yourself by joining just the heads of the tables.)\n* Don't rely on LIMIT: One of the things that can be confusing when working with BigQuery datasets is the difference between the data you scan and the data you actually get back especially since it's the first one that actually counts against your quota. When you do something like select a column with LIMIT = 10, you'll only get 10 results back, but you'll scan the whole column (and that counts against your monthly usage limit)."
    },
    {
      "metadata": {
        "trusted": true,
        "collapsed": true,
        "_uuid": "f4cc7d3ef5c7c6c44a03fae8f4e3f2df13ae30cb"
      },
      "cell_type": "code",
      "source": "",
      "execution_count": null,
      "outputs": []
    }
  ],
  "metadata": {
    "kernelspec": {
      "display_name": "Python 3",
      "language": "python",
      "name": "python3"
    },
    "language_info": {
      "name": "python",
      "version": "3.6.5",
      "mimetype": "text/x-python",
      "codemirror_mode": {
        "name": "ipython",
        "version": 3
      },
      "pygments_lexer": "ipython3",
      "nbconvert_exporter": "python",
      "file_extension": ".py"
    }
  },
  "nbformat": 4,
  "nbformat_minor": 1
}