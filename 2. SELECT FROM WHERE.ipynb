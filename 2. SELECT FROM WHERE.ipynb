{
  "cells": [
    {
      "metadata": {
        "_cell_guid": "79c7e3d0-c299-4dcb-8224-4455121ee9b0",
        "_uuid": "d629ff2d2480ee46fbb7e2d37f6b5fab8052498a",
        "trusted": true
      },
      "cell_type": "code",
      "source": "import bq_helper #Import package with helper functions\n\nopen_aq = bq_helper.BigQueryHelper(active_project = \"bigquery-public-data\", dataset_name = \"openaq\")\n#creating helper object\n\nopen_aq.list_tables()",
      "execution_count": 1,
      "outputs": [
        {
          "output_type": "execute_result",
          "execution_count": 1,
          "data": {
            "text/plain": "['global_air_quality']"
          },
          "metadata": {}
        }
      ]
    },
    {
      "metadata": {
        "trusted": true,
        "_uuid": "067bdb6041d57c06ee058744187d13a38e008f39"
      },
      "cell_type": "code",
      "source": "open_aq.head(\"global_air_quality\")",
      "execution_count": 2,
      "outputs": [
        {
          "output_type": "execute_result",
          "execution_count": 2,
          "data": {
            "text/plain": "             location          ...           averaged_over_in_hours\n0     Mobile_Cle Elum          ...                              1.0\n1  Mobile_WhiteSalmon          ...                              1.0\n2      Mobile_Newport          ...                              1.0\n3             FR33305          ...                              1.0\n4             FR33305          ...                              1.0\n\n[5 rows x 11 columns]",
            "text/html": "<div>\n<style scoped>\n    .dataframe tbody tr th:only-of-type {\n        vertical-align: middle;\n    }\n\n    .dataframe tbody tr th {\n        vertical-align: top;\n    }\n\n    .dataframe thead th {\n        text-align: right;\n    }\n</style>\n<table border=\"1\" class=\"dataframe\">\n  <thead>\n    <tr style=\"text-align: right;\">\n      <th></th>\n      <th>location</th>\n      <th>city</th>\n      <th>country</th>\n      <th>pollutant</th>\n      <th>value</th>\n      <th>timestamp</th>\n      <th>unit</th>\n      <th>source_name</th>\n      <th>latitude</th>\n      <th>longitude</th>\n      <th>averaged_over_in_hours</th>\n    </tr>\n  </thead>\n  <tbody>\n    <tr>\n      <th>0</th>\n      <td>Mobile_Cle Elum</td>\n      <td>037</td>\n      <td>US</td>\n      <td>pm25</td>\n      <td>0.00</td>\n      <td>2017-09-26 20:00:00+00:00</td>\n      <td>µg/m³</td>\n      <td>AirNow</td>\n      <td>47.197630</td>\n      <td>-120.958230</td>\n      <td>1.0</td>\n    </tr>\n    <tr>\n      <th>1</th>\n      <td>Mobile_WhiteSalmon</td>\n      <td>039</td>\n      <td>US</td>\n      <td>pm25</td>\n      <td>0.00</td>\n      <td>2017-09-26 20:00:00+00:00</td>\n      <td>µg/m³</td>\n      <td>AirNow</td>\n      <td>45.732414</td>\n      <td>-121.492330</td>\n      <td>1.0</td>\n    </tr>\n    <tr>\n      <th>2</th>\n      <td>Mobile_Newport</td>\n      <td>051</td>\n      <td>US</td>\n      <td>pm25</td>\n      <td>0.00</td>\n      <td>2017-09-21 18:00:00+00:00</td>\n      <td>µg/m³</td>\n      <td>AirNow</td>\n      <td>48.186485</td>\n      <td>-117.049160</td>\n      <td>1.0</td>\n    </tr>\n    <tr>\n      <th>3</th>\n      <td>FR33305</td>\n      <td>Ain</td>\n      <td>FR</td>\n      <td>pm10</td>\n      <td>34.83</td>\n      <td>2018-04-23 09:00:00+00:00</td>\n      <td>µg/m³</td>\n      <td>EEA France</td>\n      <td>46.211666</td>\n      <td>5.226389</td>\n      <td>1.0</td>\n    </tr>\n    <tr>\n      <th>4</th>\n      <td>FR33305</td>\n      <td>Ain</td>\n      <td>FR</td>\n      <td>no2</td>\n      <td>5.20</td>\n      <td>2018-06-26 21:00:00+00:00</td>\n      <td>µg/m³</td>\n      <td>EEA France</td>\n      <td>46.211666</td>\n      <td>5.226389</td>\n      <td>1.0</td>\n    </tr>\n  </tbody>\n</table>\n</div>"
          },
          "metadata": {}
        }
      ]
    },
    {
      "metadata": {
        "_uuid": "265cfda0bd3e57fda4d10ae4bc21ec712ef584df"
      },
      "cell_type": "markdown",
      "source": "What's up with the triple quotation marks (\"\"\")? These tell Python that everything inside them is a single string, even though we have line breaks in it. The line breaks aren't necessary, but they do make it much easier to read your query."
    },
    {
      "metadata": {
        "trusted": true,
        "collapsed": true,
        "_uuid": "74e6af75325d79146207abd57c3dbc9f30ccd26c"
      },
      "cell_type": "code",
      "source": "query = \"\"\"SELECT city\n            FROM `bigquery-public-data.openaq.global_air_quality`\n            WHERE country = 'US'\n        \"\"\"",
      "execution_count": 3,
      "outputs": []
    },
    {
      "metadata": {
        "_uuid": "fd556c287b0ca77b92037a1b9a411cc12e1f817f"
      },
      "cell_type": "markdown",
      "source": " **Important**: Note that the argument we pass to FROM is not in single or double quotation marks (' or \"). It is in backticks (`)."
    },
    {
      "metadata": {
        "trusted": true,
        "collapsed": true,
        "_uuid": "7ace5e1f09e3dda5f9f7d9b7149d61a9022b0dbb"
      },
      "cell_type": "code",
      "source": "us_cities = open_aq.query_to_pandas_safe(query)",
      "execution_count": 4,
      "outputs": []
    },
    {
      "metadata": {
        "trusted": true,
        "_uuid": "ef79dbdc50279e0a1b423759b8d6f5768c7a5804"
      },
      "cell_type": "code",
      "source": "us_cities.city.value_counts().head() #Finding the top 5 cities with most measurements taken. So fucking powerful",
      "execution_count": 5,
      "outputs": [
        {
          "output_type": "execute_result",
          "execution_count": 5,
          "data": {
            "text/plain": "Phoenix-Mesa-Scottsdale                     85\nHouston                                     79\nLos Angeles-Long Beach-Santa Ana            60\nNew York-Northern New Jersey-Long Island    59\nRiverside-San Bernardino-Ontario            56\nName: city, dtype: int64"
          },
          "metadata": {}
        }
      ]
    },
    {
      "metadata": {
        "trusted": true,
        "collapsed": true,
        "_uuid": "3550b053fd7514734a46b5e73aba45956dc950fe"
      },
      "cell_type": "code",
      "source": "",
      "execution_count": null,
      "outputs": []
    }
  ],
  "metadata": {
    "kernelspec": {
      "display_name": "Python 3",
      "language": "python",
      "name": "python3"
    },
    "language_info": {
      "name": "python",
      "version": "3.6.5",
      "mimetype": "text/x-python",
      "codemirror_mode": {
        "name": "ipython",
        "version": 3
      },
      "pygments_lexer": "ipython3",
      "nbconvert_exporter": "python",
      "file_extension": ".py"
    }
  },
  "nbformat": 4,
  "nbformat_minor": 1
}